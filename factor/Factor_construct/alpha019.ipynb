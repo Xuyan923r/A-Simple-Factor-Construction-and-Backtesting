{
 "cells": [
  {
   "cell_type": "code",
   "execution_count": 11,
   "id": "c6a86776",
   "metadata": {},
   "outputs": [],
   "source": [
    "import pandas as pd\n",
    "import numpy as np\n",
    "import os\n",
    "import pyarrow as pa\n",
    "import pyarrow.parquet as pq"
   ]
  },
  {
   "cell_type": "markdown",
   "id": "e1e4b3e7",
   "metadata": {},
   "source": [
    "### 因子构造样例"
   ]
  },
  {
   "cell_type": "markdown",
   "id": "897b940d",
   "metadata": {},
   "source": [
    "#### 预先读取merge_daily_info"
   ]
  },
  {
   "cell_type": "code",
   "execution_count": 12,
   "id": "c8bdf229",
   "metadata": {},
   "outputs": [],
   "source": [
    "merge_daily_info = pd.read_parquet(r'/Users/xuyanye/Desktop/quant mm/factor/data/merge_daily_info.parquet')\n",
    "merge_daily_info['TradingDate'] = pd.to_datetime(merge_daily_info['TradingDate'])\n",
    "merge_daily_info = merge_daily_info.drop_duplicates(subset=['Stkcd','TradingDate'])\n",
    "TRD_Dalyr = pd.read_parquet(r'/Users/xuyanye/Desktop/quant mm/factor/data/TRD_Dalyr.parquet')"
   ]
  },
  {
   "cell_type": "code",
   "execution_count": 20,
   "id": "18295fed",
   "metadata": {},
   "outputs": [
    {
     "data": {
      "text/plain": [
       "Index(['Stkcd', 'TradingDate', 'Opnprc', 'Hiprc', 'Loprc', 'Clsprc',\n",
       "       'Dnshrtrd', 'Dnvaltrd', 'Dsmvosd', 'Dsmvtll', 'Dretwd', 'Dretnd',\n",
       "       'Adjprcwd', 'Adjprcnd', 'Markettype', 'Capchgdt', 'Trdsta',\n",
       "       'Ahshrtrd_D', 'Ahvaltrd_D', 'PreClosePrice', 'ChangeRatio', 'LimitDown',\n",
       "       'LimitUp', 'LimitStatus'],\n",
       "      dtype='object')"
      ]
     },
     "execution_count": 20,
     "metadata": {},
     "output_type": "execute_result"
    }
   ],
   "source": [
    "TRD_Dalyr.columns"
   ]
  },
  {
   "cell_type": "code",
   "execution_count": 13,
   "id": "30485aff",
   "metadata": {},
   "outputs": [],
   "source": [
    "#数据提取与合并\n",
    "Dnshrtrd = TRD_Dalyr[['TradingDate','Stkcd','Dnshrtrd']]\n",
    "Dsmvosd = TRD_Dalyr[['TradingDate','Stkcd','Dsmvosd']]\n",
    "Clsprc = TRD_Dalyr[['TradingDate','Stkcd','Clsprc']]\n",
    "calc_cvturn = pd.merge(Dnshrtrd,\n",
    "                             pd.merge(Dsmvosd, Clsprc, on=['TradingDate', 'Stkcd'], how='left'),\n",
    "                             on=['TradingDate', 'Stkcd'], how='left')"
   ]
  },
  {
   "cell_type": "code",
   "execution_count": 8,
   "id": "67b4d672",
   "metadata": {},
   "outputs": [
    {
     "data": {
      "text/plain": [
       "Index(['TradingDate', 'Stkcd', 'Dnshrtrd', 'Dsmvosd', 'Clsprc'], dtype='object')"
      ]
     },
     "execution_count": 8,
     "metadata": {},
     "output_type": "execute_result"
    }
   ],
   "source": [
    "calc_cvturn.columns"
   ]
  },
  {
   "cell_type": "markdown",
   "id": "865c4c8b",
   "metadata": {},
   "source": [
    "# alpha019"
   ]
  },
  {
   "cell_type": "code",
   "execution_count": 15,
   "id": "57ce57ab",
   "metadata": {},
   "outputs": [],
   "source": [
    "COLUMN_FACTOR_NAME = \"alpha019\" \n",
    "ALPHA_SAVE_PATH_DIR = \"/Users/xuyanye/Desktop/quant mm/factor/alpha\"\n",
    "if not os.path.exists(ALPHA_SAVE_PATH_DIR):\n",
    "    os.makedirs(ALPHA_SAVE_PATH_DIR)\n",
    "# 定义最终因子在DataFrame中的列名，以及Parquet文件的基础名称\n",
    "# 这两部分必须一致，才能被您的回测代码正确识别"
   ]
  },
  {
   "cell_type": "code",
   "execution_count": 16,
   "id": "42946890",
   "metadata": {},
   "outputs": [
    {
     "name": "stdout",
     "output_type": "stream",
     "text": [
      "    Stkcd TradingDate  alpha019\n",
      "7       1  1991-04-12       6.0\n",
      "8       1  1991-04-13       2.0\n",
      "9       1  1991-04-16       6.0\n",
      "10      1  1991-04-17       6.0\n",
      "11      1  1991-04-18       4.0\n"
     ]
    }
   ],
   "source": [
    "# --- 因子计算步骤 ---\n",
    "# 假设 calc_cvturn 在此之前已经正确地准备好，\n",
    "# 并且包含了 'TradingDate', 'Stkcd', 'Dnshrtrd', 'Dsmvosd', 'Clsprc' 列。\n",
    "# 因子计算逻辑仅会使用 'Clsprc'。\n",
    "\n",
    "calc_alpha019 = calc_cvturn.copy()\n",
    "\n",
    "# 1. 确保数据按股票代码和交易日期排序\n",
    "# 这一步对于计算时间序列相关的函数（如 diff, rolling）至关重要\n",
    "calc_alpha019 = calc_alpha019.sort_values(by=['Stkcd', 'TradingDate']).copy()\n",
    "\n",
    "# 2. 计算 delta(close, 7) - 对应 Clsprc 7个交易日的日变化\n",
    "# 公式中的 (close - delay(close, 7)) + delta(close, 7)\n",
    "# 实际上等价于 2 * (close - delay(close, 7)) 或 2 * delta(close, 7)\n",
    "calc_alpha019['delta_close_7'] = calc_alpha019.groupby('Stkcd')['Clsprc'].diff(7)\n",
    "\n",
    "# 3. 计算 sign(((close - delay(close, 7)) + delta(close, 7)))\n",
    "# 也就是 sign(2 * delta(close, 7))\n",
    "calc_alpha019['sign_term'] = np.sign(2 * calc_alpha019['delta_close_7'])\n",
    "\n",
    "# 4. 计算 daily returns (日收益率)\n",
    "calc_alpha019['daily_returns'] = calc_alpha019.groupby('Stkcd')['Clsprc'].pct_change()\n",
    "\n",
    "# 5. 计算 sum(returns, 250)\n",
    "# rolling(window=250, min_periods=1) 表示计算250个周期的和，\n",
    "# min_periods=1 允许在数据不足250个点时也进行计算（例如每个股票的前250个交易日）\n",
    "calc_alpha019['sum_returns_250'] = calc_alpha019.groupby('Stkcd')['daily_returns'].rolling(window=250, min_periods=1).sum().reset_index(level=0, drop=True)\n",
    "\n",
    "# 6. 计算 (1 + sum(returns, 250))\n",
    "calc_alpha019['one_plus_sum_returns'] = 1 + calc_alpha019['sum_returns_250']\n",
    "\n",
    "# 7. 计算 rank((1 + sum(returns, 250)))\n",
    "# 排名通常是按TradingDate进行跨截面排名\n",
    "calc_alpha019['ranked_term'] = calc_alpha019.groupby('TradingDate')['one_plus_sum_returns'].rank(method='average', ascending=True)\n",
    "\n",
    "# 8. 计算 (1 + rank((1 + sum(returns, 250))))\n",
    "calc_alpha019['one_plus_ranked_term'] = 1 + calc_alpha019['ranked_term']\n",
    "\n",
    "# 9. 计算最终的 Alpha019 因子值\n",
    "# Alpha019 = (-1 * sign_term) * (one_plus_ranked_term)\n",
    "calc_alpha019['alpha019'] = -1 * calc_alpha019['sign_term'] * calc_alpha019['one_plus_ranked_term']"
   ]
  },
  {
   "cell_type": "code",
   "execution_count": 19,
   "id": "62c8cc14",
   "metadata": {},
   "outputs": [
    {
     "name": "stdout",
     "output_type": "stream",
     "text": [
      "    Stkcd TradingDate  alpha019\n",
      "7       1  1991-04-12       6.0\n",
      "8       1  1991-04-13       2.0\n",
      "9       1  1991-04-16       6.0\n",
      "10      1  1991-04-17       6.0\n",
      "11      1  1991-04-18       4.0\n"
     ]
    }
   ],
   "source": [
    "# 假设 merge_daily_info 是另一个包含 Stkcd 和 TradingDate 的 DataFrame\n",
    "# 将计算出的 Alpha12_Factor 合并到 merge_daily_info\n",
    "# 注意：如果 calc_cvturn 就是最终要用的 DataFrame，可能不需要这一步合并\n",
    "# 这里为了与用户提供的格式保持一致，假设有一个目标 DataFrame 'merge_daily_info'\n",
    "# 如果 calc_cvturn 本身就是最终结果，则可以跳过此合并步骤\n",
    "# 请根据实际情况调整 'merge_daily_info' 的定义\n",
    "try:\n",
    "    # 模拟 merge_daily_info 如果它不存在\n",
    "    if 'merge_daily_info' not in locals():\n",
    "        print(\"警告：'merge_daily_info' 未定义。为演示目的，将假设 merge_daily_info 等同于 calc_cvturn 的基础部分。\")\n",
    "        merge_daily_info = calc_cvturn[['Stkcd', 'TradingDate']].copy() # 只是一个示例\n",
    "\n",
    "    # 进行合并\n",
    "    calc_cvturn = pd.merge(merge_daily_info,\n",
    "                           calc_alpha019[['Stkcd','TradingDate','alpha019']],\n",
    "                           on=['Stkcd','TradingDate'],\n",
    "                           how='left')\n",
    "except NameError:\n",
    "    print(\"错误：'merge_daily_info' 未定义，请确保该DataFrame存在后再执行合并。\")\n",
    "\n",
    "\n",
    "# 去掉缺失值与inf (根据用户提供的格式)\n",
    "# 这一步会移除 Alpha12_Factor 列中因为 delta 计算导致的 NaN 值 (例如每个股票的第一个交易日)\n",
    "calc_cvturn = calc_cvturn.dropna(subset=['alpha019']) # 只针对因子列去除NaN，避免影响其他数据\n",
    "calc_cvturn = calc_cvturn[~np.isinf(calc_cvturn['alpha019'])] # 确保因子值不是无穷大\n",
    "\n",
    "# 打印结果 DataFrame 的头部，以供检查\n",
    "print(calc_cvturn.head())"
   ]
  },
  {
   "cell_type": "code",
   "execution_count": 21,
   "id": "7647e0cc",
   "metadata": {},
   "outputs": [],
   "source": [
    "##采用parquet优化内存\n",
    "save_path = r'/Users/xuyanye/Desktop/quant mm/factor/alpha/alpha019.parquet'\n",
    "calc_cvturn.to_parquet(save_path, compression='gzip')"
   ]
  }
 ],
 "metadata": {
  "kernelspec": {
   "display_name": "pytorch_env",
   "language": "python",
   "name": "python3"
  },
  "language_info": {
   "codemirror_mode": {
    "name": "ipython",
    "version": 3
   },
   "file_extension": ".py",
   "mimetype": "text/x-python",
   "name": "python",
   "nbconvert_exporter": "python",
   "pygments_lexer": "ipython3",
   "version": "3.12.11"
  }
 },
 "nbformat": 4,
 "nbformat_minor": 5
}
