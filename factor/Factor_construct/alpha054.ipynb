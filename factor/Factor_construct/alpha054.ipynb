{
 "cells": [
  {
   "cell_type": "code",
   "execution_count": 1,
   "id": "c6a86776",
   "metadata": {},
   "outputs": [],
   "source": [
    "import pandas as pd\n",
    "import numpy as np\n",
    "import os\n",
    "import pyarrow as pa\n",
    "import pyarrow.parquet as pq"
   ]
  },
  {
   "cell_type": "markdown",
   "id": "e1e4b3e7",
   "metadata": {},
   "source": [
    "### 因子构造样例"
   ]
  },
  {
   "cell_type": "markdown",
   "id": "897b940d",
   "metadata": {},
   "source": [
    "#### 预先读取merge_daily_info"
   ]
  },
  {
   "cell_type": "code",
   "execution_count": 2,
   "id": "c8bdf229",
   "metadata": {},
   "outputs": [],
   "source": [
    "merge_daily_info = pd.read_parquet(r'/Users/xuyanye/Desktop/quant_mm/factor/data/merge_daily_info.parquet')\n",
    "merge_daily_info['TradingDate'] = pd.to_datetime(merge_daily_info['TradingDate'])\n",
    "merge_daily_info = merge_daily_info.drop_duplicates(subset=['Stkcd','TradingDate'])\n",
    "TRD_Dalyr = pd.read_parquet(r'/Users/xuyanye/Desktop/quant_mm/factor/data/TRD_Dalyr.parquet')"
   ]
  },
  {
   "cell_type": "code",
   "execution_count": 3,
   "id": "18295fed",
   "metadata": {},
   "outputs": [
    {
     "data": {
      "text/plain": [
       "Index(['Stkcd', 'TradingDate', 'Opnprc', 'Hiprc', 'Loprc', 'Clsprc',\n",
       "       'Dnshrtrd', 'Dnvaltrd', 'Dsmvosd', 'Dsmvtll', 'Dretwd', 'Dretnd',\n",
       "       'Adjprcwd', 'Adjprcnd', 'Markettype', 'Capchgdt', 'Trdsta',\n",
       "       'Ahshrtrd_D', 'Ahvaltrd_D', 'PreClosePrice', 'ChangeRatio', 'LimitDown',\n",
       "       'LimitUp', 'LimitStatus'],\n",
       "      dtype='object')"
      ]
     },
     "execution_count": 3,
     "metadata": {},
     "output_type": "execute_result"
    }
   ],
   "source": [
    "TRD_Dalyr.columns"
   ]
  },
  {
   "cell_type": "code",
   "execution_count": 8,
   "id": "30485aff",
   "metadata": {},
   "outputs": [
    {
     "data": {
      "text/plain": [
       "Index(['TradingDate', 'Stkcd', 'Hiprc', 'Loprc', 'Clsprc', 'Opnprc'], dtype='object')"
      ]
     },
     "execution_count": 8,
     "metadata": {},
     "output_type": "execute_result"
    }
   ],
   "source": [
    "#数据提取与合并\n",
    "Hiprc = TRD_Dalyr[['TradingDate','Stkcd','Hiprc']]\n",
    "Loprc = TRD_Dalyr[['TradingDate','Stkcd','Loprc']]\n",
    "Clsprc = TRD_Dalyr[['TradingDate','Stkcd','Clsprc']]\n",
    "Opnprc = TRD_Dalyr[['TradingDate','Stkcd','Opnprc']]\n",
    "calc_cvturn = pd.merge(Hiprc,Loprc ,on=['TradingDate','Stkcd'],how='left')\n",
    "calc_cvturn = pd.merge(calc_cvturn,Clsprc ,on=['TradingDate','Stkcd'],how='left')\n",
    "calc_cvturn = pd.merge(calc_cvturn,Opnprc ,on=['TradingDate','Stkcd'],how='left')\n",
    "calc_cvturn.columns"
   ]
  },
  {
   "cell_type": "markdown",
   "id": "865c4c8b",
   "metadata": {},
   "source": [
    "# alpha054"
   ]
  },
  {
   "cell_type": "code",
   "execution_count": 9,
   "id": "57ce57ab",
   "metadata": {},
   "outputs": [],
   "source": [
    "COLUMN_FACTOR_NAME = \"alpha054\" \n",
    "ALPHA_SAVE_PATH_DIR = \"/Users/xuyanye/Desktop/quant mm/factor/alpha\"\n",
    "if not os.path.exists(ALPHA_SAVE_PATH_DIR):\n",
    "    os.makedirs(ALPHA_SAVE_PATH_DIR)\n",
    "# 定义最终因子在DataFrame中的列名，以及Parquet文件的基础名称\n",
    "# 这两部分必须一致，才能被您的回测代码正确识别"
   ]
  },
  {
   "cell_type": "code",
   "execution_count": 10,
   "id": "42946890",
   "metadata": {},
   "outputs": [
    {
     "name": "stderr",
     "output_type": "stream",
     "text": [
      "/var/folders/6j/sy28sk9165s6btqff5dbsdmc0000gn/T/ipykernel_96519/1990849753.py:22: FutureWarning: A value is trying to be set on a copy of a DataFrame or Series through chained assignment using an inplace method.\n",
      "The behavior will change in pandas 3.0. This inplace method will never work because the intermediate object on which we are setting values always behaves as a copy.\n",
      "\n",
      "For example, when doing 'df[col].method(value, inplace=True)', try using 'df.method({col: value}, inplace=True)' or df[col] = df[col].method(value) instead, to perform the operation inplace on the original object.\n",
      "\n",
      "\n",
      "  calc_factor_data['factor'].replace([float('inf'), float('-inf')], 0, inplace=True)\n"
     ]
    }
   ],
   "source": [
    "calc_factor_data = calc_cvturn.copy()\n",
    "\n",
    "# 1. 确保数据按股票代码和交易日期排序\n",
    "calc_factor_data = calc_factor_data.sort_values(by=['Stkcd', 'TradingDate']).copy()\n",
    "\n",
    "# 2. 计算 (low - close)\n",
    "calc_factor_data['low_minus_close'] = calc_factor_data['Loprc'] - calc_factor_data['Clsprc']\n",
    "\n",
    "# 3. 计算 (low - high)\n",
    "calc_factor_data['low_minus_high'] = calc_factor_data['Loprc'] - calc_factor_data['Hiprc']\n",
    "\n",
    "# 4. 计算 open^5 和 close^5\n",
    "calc_factor_data['open_5'] = calc_factor_data['Opnprc'] ** 5\n",
    "calc_factor_data['close_5'] = calc_factor_data['Clsprc'] ** 5\n",
    "\n",
    "# 5. 计算因子：((-1 * ((low - close) * (open^5))) / ((low - high) * (close^5)))\n",
    "calc_factor_data['factor'] = (-1 * (calc_factor_data['low_minus_close'] * calc_factor_data['open_5'])) / (\n",
    "    calc_factor_data['low_minus_high'] * calc_factor_data['close_5']\n",
    ")\n",
    "\n",
    "# 6. 处理 inf 和 -inf 值\n",
    "calc_factor_data['factor'].replace([float('inf'), float('-inf')], 0, inplace=True)\n"
   ]
  },
  {
   "cell_type": "code",
   "execution_count": 11,
   "id": "11b13da4",
   "metadata": {},
   "outputs": [
    {
     "name": "stdout",
     "output_type": "stream",
     "text": [
      "    Stkcd TradingDate  alpha054\n",
      "85      1  1991-08-17 -0.771207\n",
      "86      1  1991-08-19 -0.911301\n",
      "87      1  1991-08-20 -0.098936\n",
      "88      1  1991-08-21 -0.592214\n",
      "89      1  1991-08-22  0.000000\n"
     ]
    }
   ],
   "source": [
    "# 假设 merge_daily_info 是另一个包含 Stkcd 和 TradingDate 的 DataFrame\n",
    "# 将计算出的 Alpha08_Factor 合并到 merge_daily_info\n",
    "# 注意：如果 calc_cvturn 就是最终要用的 DataFrame，可能不需要这一步合并\n",
    "# 这里为了与用户提供的格式保持一致，假设有一个目标 DataFrame 'merge_daily_info'\n",
    "# 如果 calc_cvturn 本身就是最终结果，则可以跳过此合并步骤\n",
    "# 请根据实际情况调整 'merge_daily_info' 的定义\n",
    "try:\n",
    "    # 模拟 merge_daily_info 如果它不存在\n",
    "    if 'merge_daily_info' not in locals():\n",
    "        print(\"警告：'merge_daily_info' 未定义。为演示目的，将假设 merge_daily_info 等同于 calc_cvturn 的基础部分。\")\n",
    "        merge_daily_info = calc_cvturn[['Stkcd', 'TradingDate']].copy() # 只是一个示例\n",
    "\n",
    "    # 进行合并\n",
    "    calc_cvturn = pd.merge(merge_daily_info,\n",
    "                           calc_factor_data[['Stkcd','TradingDate','factor']],\n",
    "                           on=['Stkcd','TradingDate'],\n",
    "                           how='left')\n",
    "    calc_cvturn = calc_cvturn.rename(columns={'factor': 'alpha054'})\n",
    "except NameError:\n",
    "    print(\"错误：'merge_daily_info' 未定义，请确保该DataFrame存在后再执行合并。\")\n",
    "\n",
    "\n",
    "# 去掉缺失值与inf (根据用户提供的格式)\n",
    "# 这一步会移除 Alpha12_Factor 列中因为 delta 计算导致的 NaN 值 (例如每个股票的第一个交易日)\n",
    "calc_cvturn = calc_cvturn.dropna(subset=['alpha054']) # 只针对因子列去除NaN，避免影响其他数据\n",
    "calc_cvturn = calc_cvturn[~np.isinf(calc_cvturn['alpha054'])] # 确保因子值不是无穷大\n",
    "\n",
    "# 打印结果 DataFrame 的头部，以供检查\n",
    "print(calc_cvturn.head())"
   ]
  },
  {
   "cell_type": "code",
   "execution_count": 13,
   "id": "7647e0cc",
   "metadata": {},
   "outputs": [],
   "source": [
    "##采用parquet优化内存\n",
    "save_path = r'/Users/xuyanye/Desktop/quant_mm/factor/alpha/alpha054.parquet'\n",
    "calc_cvturn.to_parquet(save_path, compression='gzip')"
   ]
  }
 ],
 "metadata": {
  "kernelspec": {
   "display_name": "pytorch_env",
   "language": "python",
   "name": "python3"
  },
  "language_info": {
   "codemirror_mode": {
    "name": "ipython",
    "version": 3
   },
   "file_extension": ".py",
   "mimetype": "text/x-python",
   "name": "python",
   "nbconvert_exporter": "python",
   "pygments_lexer": "ipython3",
   "version": "3.12.11"
  }
 },
 "nbformat": 4,
 "nbformat_minor": 5
}
